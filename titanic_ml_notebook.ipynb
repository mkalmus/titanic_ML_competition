{
 "cells": [
  {
   "cell_type": "markdown",
   "metadata": {},
   "source": [
    "# Titanic: Machine Learning from Disaster\n",
    "\n",
    "## Notebook by Michael Kalmus with Inspiration from https://www.kaggle.com/yassineghouzam/titanic-top-4-with-ensemble-modeling\n",
    "\n",
    "## Final Kaggle Accuracy - 78.229%\n"
   ]
  },
  {
   "cell_type": "markdown",
   "metadata": {},
   "source": [
    "# 0. Outline of Notebook\n",
    "1. Exploratory Data Analysis (EDA)\\\n",
    "    1.1. Numerical Summaries of Training Data\\\n",
    "    1.2. Visual Summaries of Training Data\n",
    "\n",
    "2. Data Pre-processing\\\n",
    "    2.1. Write Function to Clean Data and Process Training and Testing Sets\\\n",
    "    2.2. Divide Data into Training and Testing\n",
    "        2.2.1. Without Stratification\n",
    "        2.2.2. With Stratification on 'Sex'\n",
    "    2.3. Explore/validate training and testing split\n",
    "\n",
    "3. Model Fitting\\\n",
    "    3.1. Fit Many Initial Models\\\n",
    "    3.2. Decision Tree Model and Tuning\\\n",
    "    3.3. Random Forest Model and Tuning\\\n",
    "    3.4. Ada-boosted Model and Tuning\n",
    "    \n",
    "4. More Data Pre-processing/Feature Engineering\n",
    "\n",
    "5. More Model Fitting -- Ada-boosted Model with Different Input Data\n",
    "\n",
    "6. Voting Classifier Ensemble Model\n",
    "\n",
    "7. Predictions and writing output to csv for Kaggle\n",
    "\n",
    "8. Final Discussion"
   ]
  },
  {
   "cell_type": "markdown",
   "metadata": {},
   "source": [
    "## Introduction\n",
    "\n",
    "In this notebook, I use machine learning and fit multiple models to the titanic data to predict who survived. I pre-process the data multiple ways and fit multiple models to achieve my final results. The final model was a voting classifier ensemble model which took in inputs from a fitted random forest, a fitted decision tree, and an ada-boosted model."
   ]
  },
  {
   "cell_type": "markdown",
   "metadata": {},
   "source": [
    "# 1. Exploratory Data Analysis (EDA)"
   ]
  },
  {
   "cell_type": "code",
   "execution_count": 64,
   "metadata": {},
   "outputs": [],
   "source": [
    "import pandas as pd\n",
    "import numpy as np\n",
    "import seaborn as sns"
   ]
  },
  {
   "cell_type": "code",
   "execution_count": 65,
   "metadata": {},
   "outputs": [],
   "source": [
    "np.random.seed(42)"
   ]
  },
  {
   "cell_type": "code",
   "execution_count": 66,
   "metadata": {},
   "outputs": [
    {
     "data": {
      "text/html": [
       "<div>\n",
       "<style scoped>\n",
       "    .dataframe tbody tr th:only-of-type {\n",
       "        vertical-align: middle;\n",
       "    }\n",
       "\n",
       "    .dataframe tbody tr th {\n",
       "        vertical-align: top;\n",
       "    }\n",
       "\n",
       "    .dataframe thead th {\n",
       "        text-align: right;\n",
       "    }\n",
       "</style>\n",
       "<table border=\"1\" class=\"dataframe\">\n",
       "  <thead>\n",
       "    <tr style=\"text-align: right;\">\n",
       "      <th></th>\n",
       "      <th>Survived</th>\n",
       "      <th>Pclass</th>\n",
       "      <th>Name</th>\n",
       "      <th>Sex</th>\n",
       "      <th>Age</th>\n",
       "      <th>SibSp</th>\n",
       "      <th>Parch</th>\n",
       "      <th>Ticket</th>\n",
       "      <th>Fare</th>\n",
       "      <th>Cabin</th>\n",
       "      <th>Embarked</th>\n",
       "    </tr>\n",
       "    <tr>\n",
       "      <th>PassengerId</th>\n",
       "      <th></th>\n",
       "      <th></th>\n",
       "      <th></th>\n",
       "      <th></th>\n",
       "      <th></th>\n",
       "      <th></th>\n",
       "      <th></th>\n",
       "      <th></th>\n",
       "      <th></th>\n",
       "      <th></th>\n",
       "      <th></th>\n",
       "    </tr>\n",
       "  </thead>\n",
       "  <tbody>\n",
       "    <tr>\n",
       "      <th>1</th>\n",
       "      <td>0</td>\n",
       "      <td>3</td>\n",
       "      <td>Braund, Mr. Owen Harris</td>\n",
       "      <td>male</td>\n",
       "      <td>22.0</td>\n",
       "      <td>1</td>\n",
       "      <td>0</td>\n",
       "      <td>A/5 21171</td>\n",
       "      <td>7.2500</td>\n",
       "      <td>NaN</td>\n",
       "      <td>S</td>\n",
       "    </tr>\n",
       "    <tr>\n",
       "      <th>2</th>\n",
       "      <td>1</td>\n",
       "      <td>1</td>\n",
       "      <td>Cumings, Mrs. John Bradley (Florence Briggs Th...</td>\n",
       "      <td>female</td>\n",
       "      <td>38.0</td>\n",
       "      <td>1</td>\n",
       "      <td>0</td>\n",
       "      <td>PC 17599</td>\n",
       "      <td>71.2833</td>\n",
       "      <td>C85</td>\n",
       "      <td>C</td>\n",
       "    </tr>\n",
       "    <tr>\n",
       "      <th>3</th>\n",
       "      <td>1</td>\n",
       "      <td>3</td>\n",
       "      <td>Heikkinen, Miss. Laina</td>\n",
       "      <td>female</td>\n",
       "      <td>26.0</td>\n",
       "      <td>0</td>\n",
       "      <td>0</td>\n",
       "      <td>STON/O2. 3101282</td>\n",
       "      <td>7.9250</td>\n",
       "      <td>NaN</td>\n",
       "      <td>S</td>\n",
       "    </tr>\n",
       "  </tbody>\n",
       "</table>\n",
       "</div>"
      ],
      "text/plain": [
       "             Survived  Pclass  \\\n",
       "PassengerId                     \n",
       "1                   0       3   \n",
       "2                   1       1   \n",
       "3                   1       3   \n",
       "\n",
       "                                                          Name     Sex   Age  \\\n",
       "PassengerId                                                                    \n",
       "1                                      Braund, Mr. Owen Harris    male  22.0   \n",
       "2            Cumings, Mrs. John Bradley (Florence Briggs Th...  female  38.0   \n",
       "3                                       Heikkinen, Miss. Laina  female  26.0   \n",
       "\n",
       "             SibSp  Parch            Ticket     Fare Cabin Embarked  \n",
       "PassengerId                                                          \n",
       "1                1      0         A/5 21171   7.2500   NaN        S  \n",
       "2                1      0          PC 17599  71.2833   C85        C  \n",
       "3                0      0  STON/O2. 3101282   7.9250   NaN        S  "
      ]
     },
     "execution_count": 66,
     "metadata": {},
     "output_type": "execute_result"
    }
   ],
   "source": [
    "train = pd.read_csv('train.csv')\n",
    "train_data = train.set_index('PassengerId')\n",
    "train_data.head(3)"
   ]
  },
  {
   "cell_type": "code",
   "execution_count": 67,
   "metadata": {},
   "outputs": [
    {
     "data": {
      "text/html": [
       "<div>\n",
       "<style scoped>\n",
       "    .dataframe tbody tr th:only-of-type {\n",
       "        vertical-align: middle;\n",
       "    }\n",
       "\n",
       "    .dataframe tbody tr th {\n",
       "        vertical-align: top;\n",
       "    }\n",
       "\n",
       "    .dataframe thead th {\n",
       "        text-align: right;\n",
       "    }\n",
       "</style>\n",
       "<table border=\"1\" class=\"dataframe\">\n",
       "  <thead>\n",
       "    <tr style=\"text-align: right;\">\n",
       "      <th></th>\n",
       "      <th>Pclass</th>\n",
       "      <th>Name</th>\n",
       "      <th>Sex</th>\n",
       "      <th>Age</th>\n",
       "      <th>SibSp</th>\n",
       "      <th>Parch</th>\n",
       "      <th>Ticket</th>\n",
       "      <th>Fare</th>\n",
       "      <th>Cabin</th>\n",
       "      <th>Embarked</th>\n",
       "    </tr>\n",
       "    <tr>\n",
       "      <th>PassengerId</th>\n",
       "      <th></th>\n",
       "      <th></th>\n",
       "      <th></th>\n",
       "      <th></th>\n",
       "      <th></th>\n",
       "      <th></th>\n",
       "      <th></th>\n",
       "      <th></th>\n",
       "      <th></th>\n",
       "      <th></th>\n",
       "    </tr>\n",
       "  </thead>\n",
       "  <tbody>\n",
       "    <tr>\n",
       "      <th>892</th>\n",
       "      <td>3</td>\n",
       "      <td>Kelly, Mr. James</td>\n",
       "      <td>male</td>\n",
       "      <td>34.5</td>\n",
       "      <td>0</td>\n",
       "      <td>0</td>\n",
       "      <td>330911</td>\n",
       "      <td>7.8292</td>\n",
       "      <td>NaN</td>\n",
       "      <td>Q</td>\n",
       "    </tr>\n",
       "    <tr>\n",
       "      <th>893</th>\n",
       "      <td>3</td>\n",
       "      <td>Wilkes, Mrs. James (Ellen Needs)</td>\n",
       "      <td>female</td>\n",
       "      <td>47.0</td>\n",
       "      <td>1</td>\n",
       "      <td>0</td>\n",
       "      <td>363272</td>\n",
       "      <td>7.0000</td>\n",
       "      <td>NaN</td>\n",
       "      <td>S</td>\n",
       "    </tr>\n",
       "    <tr>\n",
       "      <th>894</th>\n",
       "      <td>2</td>\n",
       "      <td>Myles, Mr. Thomas Francis</td>\n",
       "      <td>male</td>\n",
       "      <td>62.0</td>\n",
       "      <td>0</td>\n",
       "      <td>0</td>\n",
       "      <td>240276</td>\n",
       "      <td>9.6875</td>\n",
       "      <td>NaN</td>\n",
       "      <td>Q</td>\n",
       "    </tr>\n",
       "  </tbody>\n",
       "</table>\n",
       "</div>"
      ],
      "text/plain": [
       "             Pclass                              Name     Sex   Age  SibSp  \\\n",
       "PassengerId                                                                  \n",
       "892               3                  Kelly, Mr. James    male  34.5      0   \n",
       "893               3  Wilkes, Mrs. James (Ellen Needs)  female  47.0      1   \n",
       "894               2         Myles, Mr. Thomas Francis    male  62.0      0   \n",
       "\n",
       "             Parch  Ticket    Fare Cabin Embarked  \n",
       "PassengerId                                        \n",
       "892              0  330911  7.8292   NaN        Q  \n",
       "893              0  363272  7.0000   NaN        S  \n",
       "894              0  240276  9.6875   NaN        Q  "
      ]
     },
     "execution_count": 67,
     "metadata": {},
     "output_type": "execute_result"
    }
   ],
   "source": [
    "test = pd.read_csv('test.csv')\n",
    "test_ids = test[\"PassengerId\"]\n",
    "test_data = test.set_index('PassengerId')\n",
    "test_data.head(3)"
   ]
  },
  {
   "cell_type": "markdown",
   "metadata": {},
   "source": [
    "## 1.1 Numerical Summaries of Training Data"
   ]
  },
  {
   "cell_type": "code",
   "execution_count": 68,
   "metadata": {},
   "outputs": [
    {
     "name": "stdout",
     "output_type": "stream",
     "text": [
      "There are 891 rows in the provided training data\n",
      "There are 891 rows in the provided testing data\n"
     ]
    }
   ],
   "source": [
    "print(f\"There are {len(train_data)} rows in the provided training data\")\n",
    "print(f\"There are {len(train_data)} rows in the provided testing data\")"
   ]
  },
  {
   "cell_type": "code",
   "execution_count": 69,
   "metadata": {},
   "outputs": [
    {
     "data": {
      "text/html": [
       "<div>\n",
       "<style scoped>\n",
       "    .dataframe tbody tr th:only-of-type {\n",
       "        vertical-align: middle;\n",
       "    }\n",
       "\n",
       "    .dataframe tbody tr th {\n",
       "        vertical-align: top;\n",
       "    }\n",
       "\n",
       "    .dataframe thead th {\n",
       "        text-align: right;\n",
       "    }\n",
       "</style>\n",
       "<table border=\"1\" class=\"dataframe\">\n",
       "  <thead>\n",
       "    <tr style=\"text-align: right;\">\n",
       "      <th></th>\n",
       "      <th>Survived</th>\n",
       "      <th>Pclass</th>\n",
       "      <th>Age</th>\n",
       "      <th>SibSp</th>\n",
       "      <th>Parch</th>\n",
       "      <th>Fare</th>\n",
       "    </tr>\n",
       "  </thead>\n",
       "  <tbody>\n",
       "    <tr>\n",
       "      <th>count</th>\n",
       "      <td>891.000000</td>\n",
       "      <td>891.000000</td>\n",
       "      <td>714.000000</td>\n",
       "      <td>891.000000</td>\n",
       "      <td>891.000000</td>\n",
       "      <td>891.000000</td>\n",
       "    </tr>\n",
       "    <tr>\n",
       "      <th>mean</th>\n",
       "      <td>0.383838</td>\n",
       "      <td>2.308642</td>\n",
       "      <td>29.699118</td>\n",
       "      <td>0.523008</td>\n",
       "      <td>0.381594</td>\n",
       "      <td>32.204208</td>\n",
       "    </tr>\n",
       "    <tr>\n",
       "      <th>std</th>\n",
       "      <td>0.486592</td>\n",
       "      <td>0.836071</td>\n",
       "      <td>14.526497</td>\n",
       "      <td>1.102743</td>\n",
       "      <td>0.806057</td>\n",
       "      <td>49.693429</td>\n",
       "    </tr>\n",
       "    <tr>\n",
       "      <th>min</th>\n",
       "      <td>0.000000</td>\n",
       "      <td>1.000000</td>\n",
       "      <td>0.420000</td>\n",
       "      <td>0.000000</td>\n",
       "      <td>0.000000</td>\n",
       "      <td>0.000000</td>\n",
       "    </tr>\n",
       "    <tr>\n",
       "      <th>25%</th>\n",
       "      <td>0.000000</td>\n",
       "      <td>2.000000</td>\n",
       "      <td>20.125000</td>\n",
       "      <td>0.000000</td>\n",
       "      <td>0.000000</td>\n",
       "      <td>7.910400</td>\n",
       "    </tr>\n",
       "    <tr>\n",
       "      <th>50%</th>\n",
       "      <td>0.000000</td>\n",
       "      <td>3.000000</td>\n",
       "      <td>28.000000</td>\n",
       "      <td>0.000000</td>\n",
       "      <td>0.000000</td>\n",
       "      <td>14.454200</td>\n",
       "    </tr>\n",
       "    <tr>\n",
       "      <th>75%</th>\n",
       "      <td>1.000000</td>\n",
       "      <td>3.000000</td>\n",
       "      <td>38.000000</td>\n",
       "      <td>1.000000</td>\n",
       "      <td>0.000000</td>\n",
       "      <td>31.000000</td>\n",
       "    </tr>\n",
       "    <tr>\n",
       "      <th>max</th>\n",
       "      <td>1.000000</td>\n",
       "      <td>3.000000</td>\n",
       "      <td>80.000000</td>\n",
       "      <td>8.000000</td>\n",
       "      <td>6.000000</td>\n",
       "      <td>512.329200</td>\n",
       "    </tr>\n",
       "  </tbody>\n",
       "</table>\n",
       "</div>"
      ],
      "text/plain": [
       "         Survived      Pclass         Age       SibSp       Parch        Fare\n",
       "count  891.000000  891.000000  714.000000  891.000000  891.000000  891.000000\n",
       "mean     0.383838    2.308642   29.699118    0.523008    0.381594   32.204208\n",
       "std      0.486592    0.836071   14.526497    1.102743    0.806057   49.693429\n",
       "min      0.000000    1.000000    0.420000    0.000000    0.000000    0.000000\n",
       "25%      0.000000    2.000000   20.125000    0.000000    0.000000    7.910400\n",
       "50%      0.000000    3.000000   28.000000    0.000000    0.000000   14.454200\n",
       "75%      1.000000    3.000000   38.000000    1.000000    0.000000   31.000000\n",
       "max      1.000000    3.000000   80.000000    8.000000    6.000000  512.329200"
      ]
     },
     "execution_count": 69,
     "metadata": {},
     "output_type": "execute_result"
    }
   ],
   "source": [
    "train_data.describe()"
   ]
  },
  {
   "cell_type": "code",
   "execution_count": 70,
   "metadata": {},
   "outputs": [
    {
     "data": {
      "text/plain": [
       "Survived      0\n",
       "Pclass        0\n",
       "Name          0\n",
       "Sex           0\n",
       "Age         177\n",
       "SibSp         0\n",
       "Parch         0\n",
       "Ticket        0\n",
       "Fare          0\n",
       "Cabin       687\n",
       "Embarked      2\n",
       "dtype: int64"
      ]
     },
     "execution_count": 70,
     "metadata": {},
     "output_type": "execute_result"
    }
   ],
   "source": [
    "train_data.isnull().sum()"
   ]
  },
  {
   "cell_type": "code",
   "execution_count": 71,
   "metadata": {},
   "outputs": [
    {
     "data": {
      "text/plain": [
       "Pclass        0\n",
       "Name          0\n",
       "Sex           0\n",
       "Age          86\n",
       "SibSp         0\n",
       "Parch         0\n",
       "Ticket        0\n",
       "Fare          1\n",
       "Cabin       327\n",
       "Embarked      0\n",
       "dtype: int64"
      ]
     },
     "execution_count": 71,
     "metadata": {},
     "output_type": "execute_result"
    }
   ],
   "source": [
    "test_data.isnull().sum()"
   ]
  },
  {
   "cell_type": "code",
   "execution_count": 72,
   "metadata": {},
   "outputs": [
    {
     "name": "stdout",
     "output_type": "stream",
     "text": [
      "77.1% of cabin values are null in the trainind data\n",
      "78.23% of cabin values are null in the trainind data\n"
     ]
    }
   ],
   "source": [
    "pct_cabin_na = round(train_data['Cabin'].isnull().sum() / len(train_data['Cabin'])*100, 2)\n",
    "print(f\"{pct_cabin_na}% of cabin values are null in the trainind data\")\n",
    "pct_cabin_na_test = round(test_data['Cabin'].isnull().sum() / len(test_data['Cabin'])*100, 2)\n",
    "print(f\"{pct_cabin_na_test}% of cabin values are null in the trainind data\")"
   ]
  },
  {
   "cell_type": "markdown",
   "metadata": {},
   "source": [
    "### 1.1.1 Numerical Summary Discussion\n",
    "From the above, we see that in the training data, we have null values in age (numerical), cabin (categorical), and embarked (categorical). In the test set, we have null values in age, fare (numerical), and cabin. \n",
    "\n",
    "Comparing the two, the training set has null values in embarked where the test set does not; and the test set has null values in fare where the train set does not. Both sets of data have null values for age and cabin.\n",
    "\n",
    "In both dataframes, we can see that a majority of cabin values are null."
   ]
  },
  {
   "cell_type": "markdown",
   "metadata": {},
   "source": [
    "## 1.2 Visual Summaries of Training Data"
   ]
  },
  {
   "cell_type": "code",
   "execution_count": 73,
   "metadata": {},
   "outputs": [],
   "source": [
    "import matplotlib.pyplot as plt"
   ]
  },
  {
   "cell_type": "code",
   "execution_count": 74,
   "metadata": {},
   "outputs": [
    {
     "data": {
      "image/png": "[encoded data removed]",
      "text/plain": [
       "<Figure size 432x288 with 1 Axes>"
      ]
     },
     "metadata": {
      "needs_background": "light"
     },
     "output_type": "display_data"
    }
   ],
   "source": [
    "sns.countplot(x=\"Embarked\", data=train_data)\n",
    "plt.show()"
   ]
  },
  {
   "cell_type": "code",
   "execution_count": 75,
   "metadata": {},
   "outputs": [
    {
     "data": {
      "image/png": "[encoded data removed]",
      "text/plain": [
       "<Figure size 432x288 with 1 Axes>"
      ]
     },
     "metadata": {
      "needs_background": "light"
     },
     "output_type": "display_data"
    }
   ],
   "source": [
    "sns.histplot(x=train_data['Age'])\n",
    "plt.show()"
   ]
  },
  {
   "cell_type": "code",
   "execution_count": 76,
   "metadata": {},
   "outputs": [
    {
     "data": {
      "image/png": "[encoded data removed]",
      "text/plain": [
       "<Figure size 432x288 with 1 Axes>"
      ]
     },
     "metadata": {
      "needs_background": "light"
     },
     "output_type": "display_data"
    }
   ],
   "source": [
    "sns.histplot(x=train_data['Fare'])\n",
    "plt.show()"
   ]
  },
  {
   "cell_type": "code",
   "execution_count": 77,
   "metadata": {},
   "outputs": [
    {
     "data": {
      "image/png": "[encoded data removed]",
      "text/plain": [
       "<Figure size 432x288 with 1 Axes>"
      ]
     },
     "metadata": {
      "needs_background": "light"
     },
     "output_type": "display_data"
    }
   ],
   "source": [
    "sns.countplot(x=\"Sex\", data=train_data)\n",
    "plt.show()"
   ]
  },
  {
   "cell_type": "code",
   "execution_count": 78,
   "metadata": {},
   "outputs": [
    {
     "data": {
      "image/png": "[encoded data removed]",
      "text/plain": [
       "<Figure size 432x288 with 1 Axes>"
      ]
     },
     "metadata": {
      "needs_background": "light"
     },
     "output_type": "display_data"
    }
   ],
   "source": [
    "sns.barplot(x=\"Sex\", y=\"Survived\", data=train_data)\n",
    "plt.show()"
   ]
  },
  {
   "cell_type": "code",
   "execution_count": 79,
   "metadata": {},
   "outputs": [
    {
     "data": {
      "image/png": "[encoded data removed]",
      "text/plain": [
       "<Figure size 432x288 with 1 Axes>"
      ]
     },
     "metadata": {
      "needs_background": "light"
     },
     "output_type": "display_data"
    }
   ],
   "source": [
    "sns.barplot(x=\"Pclass\", y=\"Survived\", data=train_data)\n",
    "plt.show()"
   ]
  },
  {
   "cell_type": "code",
   "execution_count": 80,
   "metadata": {
    "scrolled": true
   },
   "outputs": [
    {
     "data": {
      "image/png": "[encoded data removed]",
      "text/plain": [
       "<Figure size 432x288 with 1 Axes>"
      ]
     },
     "metadata": {
      "needs_background": "light"
     },
     "output_type": "display_data"
    }
   ],
   "source": [
    "sns.barplot(x=\"Pclass\", y=\"Survived\", hue=\"Sex\", data=train_data)\n",
    "plt.show()"
   ]
  },
  {
   "cell_type": "code",
   "execution_count": 81,
   "metadata": {},
   "outputs": [
    {
     "data": {
      "image/png": "[encoded data removed]",
      "text/plain": [
       "<Figure size 432x288 with 2 Axes>"
      ]
     },
     "metadata": {
      "needs_background": "light"
     },
     "output_type": "display_data"
    }
   ],
   "source": [
    "sns.heatmap(train_data.corr(), annot=True)\n",
    "plt.show()"
   ]
  },
  {
   "cell_type": "markdown",
   "metadata": {},
   "source": [
    "### 1.2.1 Visual Summary Discussion\n",
    "\n",
    "From the first barplot, we can see that far more people embarked from Southampton than any other location. This is important because I will likely fill with this value for the NA values. Age also seems slightly skewed so it may be best to scale the data or take a log.We can see that despite more men being on board, far more women survived. \n",
    "\n",
    "When we look into which people survived by economic class (Pclass in the data), more people survived in the upper class than in the middle class, and more people survived in the middle class than the lower class. If we further stratify by gender, we can see this trend holds true for both males and females, and we can see again that more females survived than males for each class.\n",
    "\n",
    "Lastly, I plotted correlation of the attributes. From the heatmap, we can see that it appears no attribute is significantly correlated with survival (i.e. the first row in the heatmap), and no attributes appear significantly correlated with any other attribute.\n",
    "\n",
    "Given that name and ticket are identifiers to people and likely do not contain much information about survival, I dropped the name and ticket columns. It is notable that perhaps name can be made into a predictor by taking each person's prefix, and I discuss this more at the end.\n",
    "\n",
    "Overall, as we can see from the numerical and visual summaries, some pre-processing definitely needs to be done on the data. For example, we can fill age and fare with their median because they are NA and fill Embarked NA values with the mode."
   ]
  },
  {
   "cell_type": "markdown",
   "metadata": {},
   "source": [
    "# 2. Data Pre-Processing based on EDA"
   ]
  },
  {
   "cell_type": "markdown",
   "metadata": {},
   "source": [
    "## 2.1 Write Function to Clean Data and Process Training and Testing Sets\n",
    "From EDA, we saw that 'Embarked', 'Age', and 'Fare' had a few NA values and that a majority of cabin values were NA. As such, I wrote a function that first fills NA values (for embarked, fill with S; for age and fare, fill with median). Then, it replaces male and female with their binary counterparts (male is 0 and female is 1), and replaces 'Embarked' Categories with ordinal values (C = 0, S = 1, Q = 2). Lastly, as per the EDA, we drop cabin because it is mostly NA, then name and ticket because they likely will not help predict survival."
   ]
  },
  {
   "cell_type": "code",
   "execution_count": 82,
   "metadata": {},
   "outputs": [],
   "source": [
    "def clean_data(df):\n",
    "    df['Embarked'] = df['Embarked'].fillna(\"S\") \n",
    "    df['Embarked'] = df['Embarked'].replace(['C', 'S', 'Q'], [0, 1, 2])\n",
    "\n",
    "    df['Sex'] = df['Sex'].replace(['male', 'female'], [0, 1])\n",
    "\n",
    "    df['Age'] = df['Age'].fillna(df['Age'].median())\n",
    "    df['Fare'] = df['Fare'].fillna(df['Fare'].median())\n",
    "\n",
    "    df = df.drop(['Cabin', 'Name', 'Ticket'], axis=1)\n",
    "    \n",
    "    return df"
   ]
  },
  {
   "cell_type": "code",
   "execution_count": 83,
   "metadata": {},
   "outputs": [],
   "source": [
    "train_data_prepped = clean_data(train_data.copy())\n",
    "test_data_prepped = clean_data(test_data.copy())"
   ]
  },
  {
   "cell_type": "markdown",
   "metadata": {},
   "source": [
    "## 2.2 Divide Data into Training and Testing\n",
    "In this section, I divide the given training data into a training and testing set using an 80/20 split. The purpose of this is to build the model on the training set and test it on the testing set to minimize potential overfitting or underfitting. Furthermore, I later use partitioned data to tune the model and create a final model.\n",
    "\n",
    "In addition to splitting the data, we create features (X) and labels (y) matrices for the training and testing sets to be used later."
   ]
  },
  {
   "cell_type": "markdown",
   "metadata": {},
   "source": [
    "### 2.2.1 Without Stratification"
   ]
  },
  {
   "cell_type": "code",
   "execution_count": 84,
   "metadata": {},
   "outputs": [],
   "source": [
    "from sklearn.model_selection import train_test_split\n",
    "\n",
    "X = train_data_prepped.drop(['Survived'], axis=1)\n",
    "y = train_data_prepped[['Survived']]\n",
    "\n",
    "train_data_X, test_data_X, train_data_y, test_data_y = train_test_split(\n",
    "    X, y, test_size=0.2, random_state=42)"
   ]
  },
  {
   "cell_type": "code",
   "execution_count": 85,
   "metadata": {},
   "outputs": [],
   "source": [
    "from sklearn.model_selection import StratifiedShuffleSplit\n",
    "\n",
    "sss = StratifiedShuffleSplit(n_splits=1, test_size=0.2, random_state=42)\n",
    "for train_index, test_index in sss.split(train_data_prepped, train_data_prepped[['Sex']]):\n",
    "    titanic_train_set = train_data_prepped.loc[train_data_prepped.index.intersection(train_index)]\n",
    "    titanic_test_set = train_data_prepped.loc[train_data_prepped.index.intersection(test_index)]"
   ]
  },
  {
   "cell_type": "code",
   "execution_count": 86,
   "metadata": {},
   "outputs": [],
   "source": [
    "train_X_strat = titanic_train_set.drop('Survived',axis=1)\n",
    "train_y_strat = titanic_train_set['Survived'].copy()\n",
    "test_X_strat = titanic_test_set.drop('Survived',axis=1)\n",
    "test_y_strat = titanic_test_set[['Survived']].copy()"
   ]
  },
  {
   "cell_type": "markdown",
   "metadata": {},
   "source": [
    "## 2.3 Ensure split data has no null values and distribution of sex and embark location aligns with the original data."
   ]
  },
  {
   "cell_type": "code",
   "execution_count": 87,
   "metadata": {},
   "outputs": [
    {
     "data": {
      "text/plain": [
       "Pclass      0\n",
       "Sex         0\n",
       "Age         0\n",
       "SibSp       0\n",
       "Parch       0\n",
       "Fare        0\n",
       "Embarked    0\n",
       "dtype: int64"
      ]
     },
     "execution_count": 87,
     "metadata": {},
     "output_type": "execute_result"
    }
   ],
   "source": [
    "train_data_X.isnull().sum()"
   ]
  },
  {
   "cell_type": "code",
   "execution_count": 88,
   "metadata": {},
   "outputs": [
    {
     "name": "stdout",
     "output_type": "stream",
     "text": [
      "Distribution of Sex (Unstratified):\n",
      "\n",
      "Raw Data:\n",
      "male      0.647587\n",
      "female    0.352413\n",
      "Name: Sex, dtype: float64\n",
      "\n",
      "Created Training Set:\n",
      "0    0.655899\n",
      "1    0.344101\n",
      "Name: Sex, dtype: float64\n",
      "\n",
      "Created Testing Set:\n",
      "0    0.614525\n",
      "1    0.385475\n",
      "Name: Sex, dtype: float64\n"
     ]
    }
   ],
   "source": [
    "print('Distribution of Sex (Unstratified):')\n",
    "print(\"\")\n",
    "print('Raw Data:')\n",
    "print(train_data['Sex'].value_counts() / len(train_data['Sex']))\n",
    "print(\"\")\n",
    "print('Created Training Set:')\n",
    "print(train_data_X['Sex'].value_counts() / len(train_data_X['Sex']))\n",
    "print(\"\")\n",
    "print('Created Testing Set:')\n",
    "print(test_data_X['Sex'].value_counts() / len(test_data_X['Sex']))"
   ]
  },
  {
   "cell_type": "code",
   "execution_count": 89,
   "metadata": {},
   "outputs": [
    {
     "name": "stdout",
     "output_type": "stream",
     "text": [
      "Distribution of Sex (Stratified):\n",
      "\n",
      "Raw Data:\n",
      "male      0.647587\n",
      "female    0.352413\n",
      "Name: Sex, dtype: float64\n",
      "\n",
      "Created Training Set:\n",
      "0    0.648383\n",
      "1    0.351617\n",
      "Name: Sex, dtype: float64\n",
      "\n",
      "Created Testing Set:\n",
      "0    0.642458\n",
      "1    0.357542\n",
      "Name: Sex, dtype: float64\n"
     ]
    }
   ],
   "source": [
    "print('Distribution of Sex (Stratified):')\n",
    "print(\"\")\n",
    "print('Raw Data:')\n",
    "print(train_data['Sex'].value_counts() / len(train_data['Sex']))\n",
    "print(\"\")\n",
    "print('Created Training Set:')\n",
    "print(train_X_strat['Sex'].value_counts() / len(train_X_strat['Sex']))\n",
    "print(\"\")\n",
    "print('Created Testing Set:')\n",
    "print(test_X_strat['Sex'].value_counts() / len(test_X_strat['Sex']))"
   ]
  },
  {
   "cell_type": "code",
   "execution_count": 90,
   "metadata": {},
   "outputs": [
    {
     "name": "stdout",
     "output_type": "stream",
     "text": [
      "Distribution of Embarked (Unstratified):\n",
      "\n",
      "Raw Data:\n",
      "S    0.722783\n",
      "C    0.188552\n",
      "Q    0.086420\n",
      "Name: Embarked, dtype: float64\n",
      "\n",
      "Created Training Set:\n",
      "1    0.740169\n",
      "0    0.175562\n",
      "2    0.084270\n",
      "Name: Embarked, dtype: float64\n",
      "\n",
      "Created Testing Set:\n",
      "1    0.664804\n",
      "0    0.240223\n",
      "2    0.094972\n",
      "Name: Embarked, dtype: float64\n"
     ]
    }
   ],
   "source": [
    "print('Distribution of Embarked (Unstratified):')\n",
    "print(\"\")\n",
    "print('Raw Data:')\n",
    "print(train_data['Embarked'].value_counts() / len(train_data['Embarked']))\n",
    "print(\"\")\n",
    "print('Created Training Set:')\n",
    "print(train_data_X['Embarked'].value_counts() / len(train_data_X['Embarked']))\n",
    "print(\"\")\n",
    "print('Created Testing Set:')\n",
    "print(test_data_X['Embarked'].value_counts() / len(test_data_X['Embarked']))"
   ]
  },
  {
   "cell_type": "code",
   "execution_count": 91,
   "metadata": {},
   "outputs": [
    {
     "name": "stdout",
     "output_type": "stream",
     "text": [
      "Distribution of Sex (Stratified):\n",
      "\n",
      "Raw Data:\n",
      "S    0.722783\n",
      "C    0.188552\n",
      "Q    0.086420\n",
      "Name: Embarked, dtype: float64\n",
      "\n",
      "Created Training Set:\n",
      "1    0.731364\n",
      "0    0.181435\n",
      "2    0.087201\n",
      "Name: Embarked, dtype: float64\n",
      "\n",
      "Created Testing Set:\n",
      "1    0.703911\n",
      "0    0.217877\n",
      "2    0.078212\n",
      "Name: Embarked, dtype: float64\n"
     ]
    }
   ],
   "source": [
    "print('Distribution of Sex (Stratified):')\n",
    "print(\"\")\n",
    "print('Raw Data:')\n",
    "print(train_data['Embarked'].value_counts() / len(train_data['Embarked']))\n",
    "print(\"\")\n",
    "print('Created Training Set:')\n",
    "print(train_X_strat['Embarked'].value_counts() / len(train_X_strat['Embarked']))\n",
    "print(\"\")\n",
    "print('Created Testing Set:')\n",
    "print(test_X_strat['Embarked'].value_counts() / len(test_X_strat['Embarked']))"
   ]
  },
  {
   "cell_type": "markdown",
   "metadata": {},
   "source": [
    "From the outputs, we can see stratifying the data by sex produces training and testing data with distributions that much better matches the output."
   ]
  },
  {
   "cell_type": "markdown",
   "metadata": {},
   "source": [
    "## 3 Model Fitting\n",
    "In this section, I fit 8 different models and examine the accuracy of each. To do this, I fit each model on the created training data, used the fitted model to predict outcomes for the testing data, and compared predicted outcomes to known outcomes.\n",
    "\n",
    "Then, I choose one model to further tune/boost and create a final prediction model."
   ]
  },
  {
   "cell_type": "markdown",
   "metadata": {},
   "source": [
    "## 3.1 Fit Multiple Models"
   ]
  },
  {
   "cell_type": "code",
   "execution_count": 92,
   "metadata": {},
   "outputs": [],
   "source": [
    "from sklearn.model_selection import train_test_split\n",
    "from sklearn.preprocessing import StandardScaler\n",
    "from sklearn.datasets import make_moons, make_circles, make_classification\n",
    "from sklearn.neural_network import MLPClassifier\n",
    "from sklearn.neighbors import KNeighborsClassifier\n",
    "from sklearn.svm import SVC\n",
    "from sklearn.gaussian_process import GaussianProcessClassifier\n",
    "from sklearn.gaussian_process.kernels import RBF\n",
    "from sklearn.tree import DecisionTreeClassifier\n",
    "from sklearn.ensemble import RandomForestClassifier, AdaBoostClassifier\n",
    "from sklearn.naive_bayes import GaussianNB\n",
    "from sklearn.discriminant_analysis import QuadraticDiscriminantAnalysis\n",
    "from sklearn.model_selection import cross_val_score\n",
    "from sklearn.model_selection import GridSearchCV"
   ]
  },
  {
   "cell_type": "code",
   "execution_count": 93,
   "metadata": {},
   "outputs": [],
   "source": [
    "# from https://scikit-learn.org/stable/auto_examples/classification/plot_classifier_comparison.html\n",
    "names = [\"Nearest Neighbors\", \"Linear SVM\", \"RBF SVM\",\n",
    "         \"Decision Tree\", \"Random Forest\", \"Neural Net\", \"AdaBoost\",\n",
    "         \"Naive Bayes\"]\n",
    "\n",
    "classifiers = [\n",
    "    KNeighborsClassifier(3),\n",
    "    SVC(kernel=\"linear\", C=0.025, random_state=42),\n",
    "    SVC(gamma=2, C=1, random_state=42),\n",
    "    DecisionTreeClassifier(max_depth=5, random_state=42),\n",
    "    RandomForestClassifier(max_depth=5, n_estimators=10, max_features=1, random_state=42),\n",
    "    MLPClassifier(alpha=1, max_iter=1000, random_state=42),\n",
    "    AdaBoostClassifier(learning_rate=1, n_estimators=100, random_state=42),\n",
    "    GaussianNB(),\n",
    "    ]"
   ]
  },
  {
   "cell_type": "code",
   "execution_count": 94,
   "metadata": {},
   "outputs": [
    {
     "name": "stdout",
     "output_type": "stream",
     "text": [
      "Nearest Neighbors Accuracy: 72.63%\n",
      "Linear SVM Accuracy: 83.24%\n",
      "RBF SVM Accuracy: 63.13%\n",
      "Decision Tree Accuracy: 83.24%\n",
      "Random Forest Accuracy: 83.80%\n",
      "Neural Net Accuracy: 81.56%\n",
      "AdaBoost Accuracy: 83.80%\n",
      "Naive Bayes Accuracy: 83.24%\n"
     ]
    }
   ],
   "source": [
    "X_train = train_X_strat\n",
    "y_train = train_y_strat\n",
    "\n",
    "X_test = test_X_strat\n",
    "y_test = test_y_strat\n",
    "\n",
    "for name, clf in zip(names, classifiers):\n",
    "    clf.fit(X_train, y_train)\n",
    "    y_pred = clf.predict(X_test)\n",
    "    \n",
    "    # evaluate predictions\n",
    "    accuracy = clf.score(X_test, y_test)\n",
    "    print(\"%s Accuracy: %.2f%%\" % (name,accuracy * 100.0))"
   ]
  },
  {
   "cell_type": "markdown",
   "metadata": {},
   "source": [
    "## 3.2 Tuning/Boosting Decision Tree Model"
   ]
  },
  {
   "cell_type": "code",
   "execution_count": 95,
   "metadata": {},
   "outputs": [],
   "source": [
    "dt_model = DecisionTreeClassifier(max_depth=4, random_state=42)\n",
    "dt_model_fitted = dt_model.fit(train_X_strat, train_y_strat)\n",
    "\n",
    "scores_train = cross_val_score(\n",
    "    dt_model_fitted, \n",
    "    train_data_prepped.drop(['Survived'], axis=1), \n",
    "    train_data_prepped['Survived'], cv=5)"
   ]
  },
  {
   "cell_type": "code",
   "execution_count": 96,
   "metadata": {},
   "outputs": [
    {
     "name": "stdout",
     "output_type": "stream",
     "text": [
      "BASIC DECISION TREE RESULTS\n",
      "--------------------------------------------------\n",
      "Model Score (Testing): 0.8435754189944135\n",
      "Accuracy (fitting training data): 80.59% (+/- 5.89)\n"
     ]
    }
   ],
   "source": [
    "print('BASIC DECISION TREE RESULTS')\n",
    "print('-'*50)\n",
    "print(\"Model Score (Testing):\", dt_model_fitted.score(test_X_strat, test_y_strat))\n",
    "print(\"Accuracy (fitting training data): %0.2f%% (+/- %0.2f)\" % (scores_train.mean()*100, scores_train.std() * 2*100))"
   ]
  },
  {
   "cell_type": "code",
   "execution_count": 97,
   "metadata": {},
   "outputs": [],
   "source": [
    "param_grid = {\n",
    "    'random_state': [42],\n",
    "    'max_features': [1, 2, 3, 4, 5, 'auto'],\n",
    "    'max_depth': [2, 4, 5, 7, 9, None],\n",
    "    'criterion': ['gini', 'entropy']\n",
    "             }"
   ]
  },
  {
   "cell_type": "code",
   "execution_count": 98,
   "metadata": {},
   "outputs": [
    {
     "data": {
      "text/plain": [
       "DecisionTreeClassifier(max_depth=5, max_features=5, random_state=42)"
      ]
     },
     "execution_count": 98,
     "metadata": {},
     "output_type": "execute_result"
    }
   ],
   "source": [
    "from sklearn.model_selection import GridSearchCV\n",
    "\n",
    "grid_clf = GridSearchCV(dt_model_fitted, param_grid, cv=10, n_jobs=-1)\n",
    "grid_results = grid_clf.fit(train_X_strat,train_y_strat)\n",
    "grid_results.best_estimator_"
   ]
  },
  {
   "cell_type": "code",
   "execution_count": 99,
   "metadata": {
    "scrolled": true
   },
   "outputs": [],
   "source": [
    "dt_tuned = grid_results.best_estimator_\n",
    "dt_tuned_fitted = dt_tuned.fit(train_X_strat, train_y_strat)\n",
    "\n",
    "scores_train = cross_val_score(\n",
    "    dt_tuned_fitted, \n",
    "    train_data_prepped.drop(['Survived'], axis=1), \n",
    "    train_data_prepped['Survived'], cv=5)"
   ]
  },
  {
   "cell_type": "code",
   "execution_count": 100,
   "metadata": {},
   "outputs": [
    {
     "name": "stdout",
     "output_type": "stream",
     "text": [
      "TUNED DECISION TREE RESULTS\n",
      "--------------------------------------------------\n",
      "Model Score (Testing): 0.8324022346368715\n",
      "Accuracy (fitting training data): 81.48% (+/- 4.82)\n"
     ]
    }
   ],
   "source": [
    "print('TUNED DECISION TREE RESULTS')\n",
    "print('-'*50)\n",
    "print(\"Model Score (Testing):\", dt_tuned_fitted.score(test_X_strat, test_y_strat))\n",
    "print(\"Accuracy (fitting training data): %0.2f%% (+/- %0.2f)\" % (scores_train.mean()*100, scores_train.std() * 2*100))"
   ]
  },
  {
   "cell_type": "markdown",
   "metadata": {},
   "source": [
    "## 3.3 Tuning/Boosting Random Forest Model"
   ]
  },
  {
   "cell_type": "code",
   "execution_count": 101,
   "metadata": {},
   "outputs": [],
   "source": [
    "from sklearn.metrics import accuracy_score\n",
    "from sklearn.model_selection import cross_val_score"
   ]
  },
  {
   "cell_type": "code",
   "execution_count": 102,
   "metadata": {},
   "outputs": [],
   "source": [
    "rf_model = RandomForestClassifier(\n",
    "    max_depth=5, \n",
    "    n_estimators=10, \n",
    "    max_features=1, \n",
    "    random_state=42)"
   ]
  },
  {
   "cell_type": "code",
   "execution_count": 103,
   "metadata": {},
   "outputs": [],
   "source": [
    "rf_model_fitted = rf_model.fit(train_X_strat, train_y_strat)"
   ]
  },
  {
   "cell_type": "code",
   "execution_count": 104,
   "metadata": {},
   "outputs": [],
   "source": [
    "scores_train = cross_val_score(\n",
    "    rf_model_fitted, \n",
    "    train_data_prepped.drop(['Survived'], axis=1), \n",
    "    train_data_prepped['Survived'], cv=5)"
   ]
  },
  {
   "cell_type": "code",
   "execution_count": 105,
   "metadata": {},
   "outputs": [
    {
     "name": "stdout",
     "output_type": "stream",
     "text": [
      "BASIC RANDOM FOREST RESULTS\n",
      "--------------------------------------------------\n",
      "Model Score (Testing): 0.8379888268156425\n",
      "Accuracy (fitting training data): 82.49% (+/- 5.94)\n"
     ]
    }
   ],
   "source": [
    "print('BASIC RANDOM FOREST RESULTS')\n",
    "print('-'*50)\n",
    "print(\"Model Score (Testing):\", rf_model_fitted.score(test_X_strat, test_y_strat))\n",
    "print(\"Accuracy (fitting training data): %0.2f%% (+/- %0.2f)\" % (scores_train.mean()*100, scores_train.std() * 2*100))"
   ]
  },
  {
   "cell_type": "code",
   "execution_count": 106,
   "metadata": {},
   "outputs": [
    {
     "data": {
      "text/plain": [
       "RandomForestClassifier(criterion='entropy', max_depth=9, max_features=4,\n",
       "                       n_estimators=20, random_state=42)"
      ]
     },
     "execution_count": 106,
     "metadata": {},
     "output_type": "execute_result"
    }
   ],
   "source": [
    "param_grid = {\n",
    "                 'n_estimators': [5, 10, 15, 20, 25, 30, 35, 40, 50, 60, 70, 80, 90, 100, 110, 120],\n",
    "                 'random_state': [42],\n",
    "                 'max_features': [1, 2, 3, 4, 5, 'auto'],\n",
    "                 'max_depth': [2, 5, 7, 9, None],\n",
    "                 'criterion': ['gini', 'entropy']\n",
    "             }\n",
    "\n",
    "from sklearn.model_selection import GridSearchCV\n",
    "\n",
    "grid_clf = GridSearchCV(rf_model, param_grid, cv=5, n_jobs=-1)\n",
    "grid_results = grid_clf.fit(train_X_strat,train_y_strat)\n",
    "\n",
    "grid_results.best_estimator_"
   ]
  },
  {
   "cell_type": "code",
   "execution_count": 107,
   "metadata": {},
   "outputs": [],
   "source": [
    "rf_model_best = grid_results.best_estimator_\n",
    "rf_best_fitted = rf_model_best.fit(train_X_strat, train_y_strat)\n",
    "\n",
    "scores_tuned_rf = cross_val_score(\n",
    "    rf_best_fitted, \n",
    "    train_data_prepped.drop(['Survived'], axis=1), \n",
    "    train_data_prepped['Survived'], cv=5)"
   ]
  },
  {
   "cell_type": "code",
   "execution_count": 108,
   "metadata": {},
   "outputs": [
    {
     "name": "stdout",
     "output_type": "stream",
     "text": [
      "TUNED RANDOM FOREST RESULTS\n",
      "--------------------------------------------------\n",
      "Model Score:  0.8435754189944135\n",
      "Accuracy (fitting training data): 82.94% (+/- 3.84)\n"
     ]
    }
   ],
   "source": [
    "print('TUNED RANDOM FOREST RESULTS')\n",
    "print('-'*50)\n",
    "print(\"Model Score: \", rf_best_fitted.score(test_X_strat, test_y_strat))\n",
    "print(\"Accuracy (fitting training data): %0.2f%% (+/- %0.2f)\" % (scores_tuned_rf.mean()*100, scores_tuned_rf.std() * 2*100))"
   ]
  },
  {
   "cell_type": "markdown",
   "metadata": {},
   "source": [
    "### 3.4 Ada-boosted Model\n",
    "Since the best model actually overfit the data, we use the original random forest model. Usually, Ada-boosting does not work well with models that are not weak learners, so usual inputs are a decision tree. However, I ran this multiple ways and found that boosting the random forest actually outputted the best model and achieved the best Kaggle score."
   ]
  },
  {
   "cell_type": "code",
   "execution_count": 109,
   "metadata": {},
   "outputs": [],
   "source": [
    "rf_boosted = AdaBoostClassifier(\n",
    "    base_estimator = None, \n",
    "    random_state=42)\n",
    "\n",
    "rf_boost_fitted = rf_boosted.fit(train_X_strat, train_y_strat)"
   ]
  },
  {
   "cell_type": "code",
   "execution_count": 110,
   "metadata": {},
   "outputs": [],
   "source": [
    "scores_boosted_rf = cross_val_score(\n",
    "    rf_boost_fitted, \n",
    "    train_data_prepped.drop(['Survived'], axis=1), \n",
    "    train_data_prepped['Survived'], cv=5)"
   ]
  },
  {
   "cell_type": "code",
   "execution_count": 111,
   "metadata": {},
   "outputs": [
    {
     "name": "stdout",
     "output_type": "stream",
     "text": [
      "Model Score: 0.8603351955307262\n",
      "Accuracy (fitting training data): 80.81% (+/- 5.44)\n"
     ]
    }
   ],
   "source": [
    "print(\"Model Score:\", rf_boost_fitted.score(test_X_strat, test_y_strat))\n",
    "print(\"Accuracy (fitting training data): %0.2f%% (+/- %0.2f)\" % (scores_boosted_rf.mean()*100, scores_boosted_rf.std() * 2*100))"
   ]
  },
  {
   "cell_type": "code",
   "execution_count": 112,
   "metadata": {},
   "outputs": [
    {
     "data": {
      "text/plain": [
       "AdaBoostClassifier(algorithm='SAMME',\n",
       "                   base_estimator=RandomForestClassifier(criterion='entropy',\n",
       "                                                         max_depth=9,\n",
       "                                                         max_features=4,\n",
       "                                                         n_estimators=20,\n",
       "                                                         random_state=42),\n",
       "                   learning_rate=0.01, random_state=42)"
      ]
     },
     "execution_count": 112,
     "metadata": {},
     "output_type": "execute_result"
    }
   ],
   "source": [
    "param_grid = {\n",
    "                 'n_estimators': [50, 75, 100, 150],\n",
    "                 'random_state': [42],\n",
    "                 'base_estimator': [rf_best_fitted],\n",
    "                 'learning_rate': [0.001, 0.01, 0.1, 1],\n",
    "                 'algorithm': ['SAMME', 'SAMME.R']\n",
    "             }\n",
    "grid_clf = GridSearchCV(rf_boost_fitted, param_grid, cv=5, n_jobs=-1)\n",
    "grid_results = grid_clf.fit(train_X_strat, train_y_strat)\n",
    "grid_results.best_estimator_"
   ]
  },
  {
   "cell_type": "code",
   "execution_count": 113,
   "metadata": {},
   "outputs": [],
   "source": [
    "ada_final = grid_results.best_estimator_\n",
    "ada_final_fitted = ada_final.fit(train_X_strat, train_y_strat)\n",
    "\n",
    "scores_final = cross_val_score(\n",
    "    ada_final_fitted, \n",
    "    train_data_prepped.drop(['Survived'], axis=1), \n",
    "    train_data_prepped['Survived'], cv=5)"
   ]
  },
  {
   "cell_type": "code",
   "execution_count": 114,
   "metadata": {},
   "outputs": [
    {
     "name": "stdout",
     "output_type": "stream",
     "text": [
      "Model Score: 0.8603351955307262\n",
      "Accuracy (fitting training data): 82.83% (+/- 5.30)\n"
     ]
    }
   ],
   "source": [
    "print(\"Model Score:\", ada_final_fitted.score(test_X_strat, test_y_strat))\n",
    "print(\"Accuracy (fitting training data): %0.2f%% (+/- %0.2f)\" % (scores_final.mean()*100, scores_final.std() * 2*100))"
   ]
  },
  {
   "cell_type": "markdown",
   "metadata": {},
   "source": [
    "# 4. More PreProcessing - Can we do better with feature engineering?\n",
    "We've already gotten above 75% accuracy with the ada boosted model (true accuracy as reported by Kaggle), but can we make it better with some feature engineering? I did much of this work with inspiration from previous Kaggle notebooks like https://www.kaggle.com/yassineghouzam/titanic-top-4-with-ensemble-modeling . "
   ]
  },
  {
   "cell_type": "code",
   "execution_count": 115,
   "metadata": {},
   "outputs": [],
   "source": [
    "all_data =  pd.concat(objs=[train_data, test_data], axis=0)\n",
    "all_data = all_data.fillna(np.nan)"
   ]
  },
  {
   "cell_type": "code",
   "execution_count": 116,
   "metadata": {},
   "outputs": [
    {
     "data": {
      "text/html": [
       "<div>\n",
       "<style scoped>\n",
       "    .dataframe tbody tr th:only-of-type {\n",
       "        vertical-align: middle;\n",
       "    }\n",
       "\n",
       "    .dataframe tbody tr th {\n",
       "        vertical-align: top;\n",
       "    }\n",
       "\n",
       "    .dataframe thead th {\n",
       "        text-align: right;\n",
       "    }\n",
       "</style>\n",
       "<table border=\"1\" class=\"dataframe\">\n",
       "  <thead>\n",
       "    <tr style=\"text-align: right;\">\n",
       "      <th></th>\n",
       "      <th>Survived</th>\n",
       "      <th>Pclass</th>\n",
       "      <th>Name</th>\n",
       "      <th>Sex</th>\n",
       "      <th>Age</th>\n",
       "      <th>SibSp</th>\n",
       "      <th>Parch</th>\n",
       "      <th>Ticket</th>\n",
       "      <th>Fare</th>\n",
       "      <th>Cabin</th>\n",
       "      <th>Embarked</th>\n",
       "    </tr>\n",
       "    <tr>\n",
       "      <th>PassengerId</th>\n",
       "      <th></th>\n",
       "      <th></th>\n",
       "      <th></th>\n",
       "      <th></th>\n",
       "      <th></th>\n",
       "      <th></th>\n",
       "      <th></th>\n",
       "      <th></th>\n",
       "      <th></th>\n",
       "      <th></th>\n",
       "      <th></th>\n",
       "    </tr>\n",
       "  </thead>\n",
       "  <tbody>\n",
       "    <tr>\n",
       "      <th>1</th>\n",
       "      <td>0.0</td>\n",
       "      <td>3</td>\n",
       "      <td>Braund, Mr. Owen Harris</td>\n",
       "      <td>male</td>\n",
       "      <td>22.0</td>\n",
       "      <td>1</td>\n",
       "      <td>0</td>\n",
       "      <td>A/5 21171</td>\n",
       "      <td>7.25</td>\n",
       "      <td>NaN</td>\n",
       "      <td>S</td>\n",
       "    </tr>\n",
       "  </tbody>\n",
       "</table>\n",
       "</div>"
      ],
      "text/plain": [
       "             Survived  Pclass                     Name   Sex   Age  SibSp  \\\n",
       "PassengerId                                                                 \n",
       "1                 0.0       3  Braund, Mr. Owen Harris  male  22.0      1   \n",
       "\n",
       "             Parch     Ticket  Fare Cabin Embarked  \n",
       "PassengerId                                         \n",
       "1                0  A/5 21171  7.25   NaN        S  "
      ]
     },
     "execution_count": 116,
     "metadata": {},
     "output_type": "execute_result"
    }
   ],
   "source": [
    "all_data.head(1)"
   ]
  },
  {
   "cell_type": "code",
   "execution_count": 117,
   "metadata": {},
   "outputs": [],
   "source": [
    "def clean_data(df):\n",
    "    \n",
    "    df2 = df.copy()\n",
    "    df2['Embarked'] = df2['Embarked'].fillna(\"S\") \n",
    "#     df2['Embarked'] = df2['Embarked'].replace(['C', 'S', 'Q'], [0, 1, 2])\n",
    "\n",
    "    df2['Sex'] = df2['Sex'].replace(['male', 'female'], [0, 1])\n",
    "\n",
    "    df2['Age'] = df2['Age'].fillna(df['Age'].median())\n",
    "    df2['Fare'] = df2['Fare'].fillna(df['Fare'].median())\n",
    "    \n",
    "    df2['family_size'] = df2['SibSp'] + df2['Parch'] + 1\n",
    "    \n",
    "    df2['hasFamily'] = df2['family_size'].map(\n",
    "        lambda s: 0 if s == 0 else 1)\n",
    "    \n",
    "    titles = df2['Name'].str.split(\n",
    "    ', ', expand=True)[1].str.split(\n",
    "        '.',expand=True)[0]\n",
    "    \n",
    "    title_df = titles.value_counts().reset_index()\n",
    "    top_titles = (title_df[title_df[0] >= 10])['index'].values\n",
    "    \n",
    "    title_filtered = [title if title in top_titles else 'other' for title in titles]\n",
    "    \n",
    "    df2['title'] = title_filtered\n",
    "    \n",
    "    df2[\"title\"] = df2[\"title\"].map(\n",
    "        {\"Master\":0, \n",
    "         \"Miss\":1, \n",
    "         \"Ms\" : 1 , \n",
    "         \"Mme\":1, \n",
    "         \"Mlle\":1, \n",
    "         \"Mrs\":1, \n",
    "         \"Mr\":2, \n",
    "         \"other\":3})\n",
    "    \n",
    "    df2 = pd.get_dummies(df2, columns = [\"title\"])\n",
    "    df2 = pd.get_dummies(df2, columns = [\"Embarked\"], prefix=\"Em\")\n",
    "    df2 = pd.get_dummies(df2, columns = [\"Pclass\"],prefix=\"Pc\")\n",
    "    \n",
    "    df_cleaned = df2.drop(['Cabin', 'Name', 'Ticket'], axis=1)\n",
    "    \n",
    "    return df_cleaned"
   ]
  },
  {
   "cell_type": "code",
   "execution_count": 118,
   "metadata": {},
   "outputs": [],
   "source": [
    "all_data_clean = clean_data(all_data)"
   ]
  },
  {
   "cell_type": "code",
   "execution_count": 119,
   "metadata": {},
   "outputs": [
    {
     "data": {
      "text/plain": [
       "Index(['Survived', 'Sex', 'Age', 'SibSp', 'Parch', 'Fare', 'family_size',\n",
       "       'hasFamily', 'title_0', 'title_1', 'title_2', 'title_3', 'Em_C', 'Em_Q',\n",
       "       'Em_S', 'Pc_1', 'Pc_2', 'Pc_3'],\n",
       "      dtype='object')"
      ]
     },
     "execution_count": 119,
     "metadata": {},
     "output_type": "execute_result"
    }
   ],
   "source": [
    "all_data_clean.columns"
   ]
  },
  {
   "cell_type": "code",
   "execution_count": 120,
   "metadata": {},
   "outputs": [],
   "source": [
    "new_train_prepped = all_data_clean[:len(train_data)].copy()\n",
    "new_test_prepped = all_data_clean[len(train_data):].copy()"
   ]
  },
  {
   "cell_type": "markdown",
   "metadata": {},
   "source": [
    "# 5. Fit Models on Newly-processed Data"
   ]
  },
  {
   "cell_type": "code",
   "execution_count": 121,
   "metadata": {},
   "outputs": [],
   "source": [
    "from sklearn.model_selection import StratifiedShuffleSplit\n",
    "\n",
    "sss = StratifiedShuffleSplit(n_splits=1, test_size=0.2, random_state=42)\n",
    "for train_index, test_index in sss.split(new_train_prepped, new_train_prepped[['Sex']]):\n",
    "    titanic_train_set = new_train_prepped.loc[new_train_prepped.index.intersection(train_index)]\n",
    "    titanic_test_set = new_train_prepped.loc[new_train_prepped.index.intersection(test_index)]\n",
    "    \n",
    "train_X_strat = titanic_train_set.drop('Survived',axis=1)\n",
    "train_y_strat = titanic_train_set['Survived'].copy()\n",
    "test_X_strat = titanic_test_set.drop('Survived',axis=1)\n",
    "test_y_strat = titanic_test_set[['Survived']].copy()"
   ]
  },
  {
   "cell_type": "code",
   "execution_count": 122,
   "metadata": {},
   "outputs": [
    {
     "data": {
      "text/plain": [
       "RandomForestClassifier(max_depth=5, max_features=4, n_estimators=80,\n",
       "                       random_state=42)"
      ]
     },
     "execution_count": 122,
     "metadata": {},
     "output_type": "execute_result"
    }
   ],
   "source": [
    "rf_model = RandomForestClassifier(\n",
    "    max_depth=5, \n",
    "    n_estimators=10, \n",
    "    max_features=1, \n",
    "    random_state=42)\n",
    "\n",
    "param_grid = {\n",
    "                 'n_estimators': [5, 10, 15, 20, 25, 30, 35, 40, 50, 60, 70, 80, 90, 100, 110, 120],\n",
    "                 'random_state': [42],\n",
    "                 'max_features': [1, 2, 3, 4, 5, 'auto'],\n",
    "                 'max_depth': [2, 5, 7, 9, None],\n",
    "                 'criterion': ['gini', 'entropy']\n",
    "             }\n",
    "\n",
    "from sklearn.model_selection import GridSearchCV\n",
    "\n",
    "grid_clf = GridSearchCV(rf_model, param_grid, cv=5, n_jobs=-1)\n",
    "grid_results = grid_clf.fit(train_X_strat,train_y_strat)\n",
    "\n",
    "grid_results.best_estimator_"
   ]
  },
  {
   "cell_type": "code",
   "execution_count": 123,
   "metadata": {},
   "outputs": [],
   "source": [
    "rf_model_best = grid_results.best_estimator_\n",
    "rf_best_fitted = rf_model_best.fit(train_X_strat, train_y_strat)\n",
    "\n",
    "scores_tuned_rf = cross_val_score(\n",
    "    rf_best_fitted, \n",
    "    train_data_prepped.drop(['Survived'], axis=1), \n",
    "    train_data_prepped['Survived'], cv=5)"
   ]
  },
  {
   "cell_type": "code",
   "execution_count": 124,
   "metadata": {},
   "outputs": [
    {
     "name": "stdout",
     "output_type": "stream",
     "text": [
      "TUNED RANDOM FOREST\n",
      "--------------------------------------------------\n",
      "Model Score: 0.8547486033519553\n",
      "Accuracy (fitting training data): 82.83% (+/- 5.30)\n"
     ]
    }
   ],
   "source": [
    "print('TUNED RANDOM FOREST')\n",
    "print('-'*50)\n",
    "print(\"Model Score:\", rf_best_fitted.score(test_X_strat, test_y_strat))\n",
    "print(\"Accuracy (fitting training data): %0.2f%% (+/- %0.2f)\" % (scores_final.mean()*100, scores_final.std() * 2*100))"
   ]
  },
  {
   "cell_type": "code",
   "execution_count": 125,
   "metadata": {},
   "outputs": [
    {
     "data": {
      "text/plain": [
       "AdaBoostClassifier(base_estimator=RandomForestClassifier(max_depth=5,\n",
       "                                                         max_features=4,\n",
       "                                                         n_estimators=80,\n",
       "                                                         random_state=42),\n",
       "                   learning_rate=0.1, n_estimators=75, random_state=42)"
      ]
     },
     "execution_count": 125,
     "metadata": {},
     "output_type": "execute_result"
    }
   ],
   "source": [
    "param_grid = {\n",
    "                 'n_estimators': [30, 40, 50, 75, 100, 150],\n",
    "                 'random_state': [42],\n",
    "                 'base_estimator': [rf_model_best],\n",
    "                 'learning_rate': [0.001, 0.01, 0.1, 1],\n",
    "                 'algorithm': ['SAMME', 'SAMME.R']\n",
    "             }\n",
    "grid_clf = GridSearchCV(AdaBoostClassifier(random_state=42), param_grid, cv=5, n_jobs=-1)\n",
    "grid_results = grid_clf.fit(train_X_strat, train_y_strat)\n",
    "grid_results.best_estimator_"
   ]
  },
  {
   "cell_type": "code",
   "execution_count": 126,
   "metadata": {},
   "outputs": [],
   "source": [
    "ada_final_2 = grid_results.best_estimator_\n",
    "ada_final_fitted_2 = ada_final_2.fit(train_X_strat, train_y_strat)\n",
    "\n",
    "scores_final = cross_val_score(\n",
    "    ada_final_fitted_2, \n",
    "    new_train_prepped.drop('Survived', axis=1), \n",
    "    new_train_prepped['Survived'], cv=5)"
   ]
  },
  {
   "cell_type": "code",
   "execution_count": 127,
   "metadata": {},
   "outputs": [
    {
     "name": "stdout",
     "output_type": "stream",
     "text": [
      "Model Score: 0.8547486033519553\n",
      "Accuracy (fitting training data): 82.61% (+/- 4.14)\n"
     ]
    }
   ],
   "source": [
    "print(\"Model Score:\", ada_final_fitted_2.score(test_X_strat, test_y_strat))\n",
    "print(\"Accuracy (fitting training data): %0.2f%% (+/- %0.2f)\" % (scores_final.mean()*100, scores_final.std() * 2*100))"
   ]
  },
  {
   "cell_type": "markdown",
   "metadata": {},
   "source": [
    "### Discussion\n",
    "\n",
    "Overall, with more pre-processing, the model actually performed worse on average. It's notable that there are many ways to judge a model and with a fairly large standard deviation, the models perform quite similarly. I think there is more work to be done to make a better model, such as cutting age into different bins. As discussed more in the discussion, this model did actually result in the most accurate Kaggle submission. "
   ]
  },
  {
   "cell_type": "markdown",
   "metadata": {},
   "source": [
    "# 6. Now Let's Try a Voting Classifier Ensemble Model"
   ]
  },
  {
   "cell_type": "code",
   "execution_count": 128,
   "metadata": {},
   "outputs": [],
   "source": [
    "from sklearn.linear_model import LogisticRegression\n",
    "from sklearn.ensemble import RandomForestClassifier, VotingClassifier\n",
    "\n",
    "dt_best_voting = dt_tuned_fitted\n",
    "rf_model_voting = rf_best_fitted\n",
    "ada_model_voting = ada_final_fitted\n",
    "\n",
    "eclf1 = VotingClassifier(estimators=[\n",
    "    ('dt', dt_best_voting), \n",
    "    ('rf', rf_model_voting), \n",
    "    ('ada_boosted', ada_model_voting)], voting='hard')\n",
    "\n",
    "eclf1_fitted = eclf1.fit(train_X_strat, train_y_strat)"
   ]
  },
  {
   "cell_type": "code",
   "execution_count": 129,
   "metadata": {},
   "outputs": [
    {
     "name": "stdout",
     "output_type": "stream",
     "text": [
      "VOTING CLASSIFIER MODEL\n",
      "--------------------------------------------------\n",
      "Model Score: 0.8547486033519553\n",
      "Accuracy (fitting training data): 81.60% (+/- 5.14)\n"
     ]
    }
   ],
   "source": [
    "scores_voting = cross_val_score(\n",
    "    eclf1_fitted, \n",
    "    train_data_prepped.drop(['Survived'], axis=1), \n",
    "    train_data_prepped['Survived'], cv=5)\n",
    "\n",
    "print(\"VOTING CLASSIFIER MODEL\")\n",
    "print('-'*50)\n",
    "print(\"Model Score:\", ada_final_fitted_2.score(test_X_strat, test_y_strat))\n",
    "print(\"Accuracy (fitting training data): %0.2f%% (+/- %0.2f)\" % (scores_voting.mean()*100, scores_voting.std() * 2*100))"
   ]
  },
  {
   "cell_type": "markdown",
   "metadata": {},
   "source": [
    "# 7. Use Fitted Model to Predict Test Data and Write Outputs to .csv File"
   ]
  },
  {
   "cell_type": "code",
   "execution_count": 133,
   "metadata": {},
   "outputs": [],
   "source": [
    "test_clean_2 = all_data_clean[len(train_data):].copy()\n",
    "X = test_clean_2.drop('Survived', axis=1)\n",
    "final_preds = eclf1_fitted.predict(X).astype(int)"
   ]
  },
  {
   "cell_type": "code",
   "execution_count": 134,
   "metadata": {},
   "outputs": [],
   "source": [
    "results = pd.concat([test_ids, pd.Series(final_preds, name=\"Survived\")],axis=1)"
   ]
  },
  {
   "cell_type": "code",
   "execution_count": 135,
   "metadata": {},
   "outputs": [],
   "source": [
    "results.to_csv(\"submission.csv\", index=False)"
   ]
  },
  {
   "cell_type": "markdown",
   "metadata": {},
   "source": [
    "# 8. Discussion and Future Improvements\n",
    "\n",
    "According to the model score and computed accuracy, the voting classifier model did not perform the best; I submitted multiple predictions to Kaggle to assess how the models perform (submitted multiple times), and the Voting Classifier model with more pre-processed data achieved an accuracy of 78.29%, which was the peak of all submissions. \n",
    "\n",
    "However, I think there is much work to be done to achieve a better model. For example, we could cut age into bins. It also seems some of the features are related such as fare and embarked, so I'd like to explore these relationships as well. Lastly, I think some other approaches can be taken like clustering before classifying, and I'd like to explore some alternative approaches such as this in future work. If anyone wants to work on this notebook from Kaggle, please feel free!"
   ]
  },
  {
   "cell_type": "code",
   "execution_count": null,
   "metadata": {},
   "outputs": [],
   "source": []
  }
 ],
 "metadata": {
  "kernelspec": {
   "display_name": "Python 3",
   "language": "python",
   "name": "python3"
  },
  "language_info": {
   "codemirror_mode": {
    "name": "ipython",
    "version": 3
   },
   "file_extension": ".py",
   "mimetype": "text/x-python",
   "name": "python",
   "nbconvert_exporter": "python",
   "pygments_lexer": "ipython3",
   "version": "3.8.8"
  }
 },
 "nbformat": 4,
 "nbformat_minor": 4
}
